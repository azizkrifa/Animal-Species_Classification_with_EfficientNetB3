{
 "cells": [
  {
   "cell_type": "code",
   "execution_count": null,
   "id": "9648002c",
   "metadata": {},
   "outputs": [],
   "source": [
    "from tensorflow.keras.preprocessing.image import ImageDataGenerator\n",
    "from tensorflow.keras.models import load_model\n",
    "from utils import load_test_set ,display_classfication_report_and_confusion_matrix ,dispaly_samples_predictions\n",
    "import nbimporter\n",
    "from data_preprocessing import dataset_path"
   ]
  },
  {
   "cell_type": "code",
   "execution_count": null,
   "id": "0e5c8799",
   "metadata": {},
   "outputs": [],
   "source": [
    "test_data = load_test_set(dataset_path) #load the test dataset\n",
    "\n",
    "model= load_model('/Outputs/best_model.h5') #load the best model saved during training"
   ]
  },
  {
   "cell_type": "code",
   "execution_count": null,
   "id": "f522198f",
   "metadata": {},
   "outputs": [],
   "source": [
    "loss, accuracy = model.evaluate(test_data)\n",
    "\n",
    "print(f\"Test Loss: {loss:.2f}\")\n",
    "print(f\"Test Accuracy: {accuracy * 100:.2f}%\")"
   ]
  },
  {
   "cell_type": "code",
   "execution_count": null,
   "id": "ae0e80de",
   "metadata": {},
   "outputs": [],
   "source": [
    "display_classfication_report_and_confusion_matrix(model, test_data)"
   ]
  },
  {
   "cell_type": "code",
   "execution_count": null,
   "id": "1fa60e29",
   "metadata": {},
   "outputs": [],
   "source": [
    "test_path = dataset_path + '/test'\n",
    "\n",
    "# Displays 6 random images from the test dataset with their true and predicted labels.\n",
    "dispaly_samples_predictions(model, test_path) "
   ]
  }
 ],
 "metadata": {
  "language_info": {
   "name": "python"
  }
 },
 "nbformat": 4,
 "nbformat_minor": 5
}
