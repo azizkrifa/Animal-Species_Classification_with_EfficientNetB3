{
 "cells": [
  {
   "cell_type": "markdown",
   "id": "header-1",
   "metadata": {},
   "source": [
    "# Model Evaluation\n",
    "---"
   ]
  },
  {
   "cell_type": "markdown",
   "id": "imports",
   "metadata": {},
   "source": [
    "## 1. Import Required Libraries"
   ]
  },
  {
   "cell_type": "code",
   "execution_count": null,
   "id": "1191c44e",
   "metadata": {},
   "outputs": [],
   "source": [
    "from tensorflow.keras.preprocessing.image import ImageDataGenerator\n",
    "from tensorflow.keras.models import load_model\n",
    "from utils import load_test_set, display_classfication_report_and_confusion_matrix, dispaly_samples_predictions\n",
    "import nbimporter\n",
    "from data_preprocessing import dataset_path"
   ]
  },
  {
   "cell_type": "markdown",
   "id": "divider-1",
   "metadata": {},
   "source": [
    "---"
   ]
  },
  {
   "cell_type": "markdown",
   "id": "load-data",
   "metadata": {},
   "source": [
    "## 2. Load Test Data and Model"
   ]
  },
  {
   "cell_type": "code",
   "execution_count": null,
   "id": "7b8728af",
   "metadata": {},
   "outputs": [],
   "source": [
    "# Load the test dataset\n",
    "test_data = load_test_set(dataset_path)\n",
    "\n",
    "# Load the best model saved during training\n",
    "model = load_model('/Outputs/best_model.h5')"
   ]
  },
  {
   "cell_type": "markdown",
   "id": "divider-2",
   "metadata": {},
   "source": [
    "---"
   ]
  },
  {
   "cell_type": "markdown",
   "id": "model-evaluation",
   "metadata": {},
   "source": [
    "## 3. Evaluate Model Performance"
   ]
  },
  {
   "cell_type": "code",
   "execution_count": null,
   "id": "9d6ead21",
   "metadata": {},
   "outputs": [],
   "source": [
    "# Calculate test loss and accuracy\n",
    "loss, accuracy = model.evaluate(test_data)\n",
    "\n",
    "print(f\"Test Loss: {loss:.2f}\")\n",
    "print(f\"Test Accuracy: {accuracy * 100:.2f}%\")"
   ]
  },
  {
   "cell_type": "markdown",
   "id": "divider-3",
   "metadata": {},
   "source": [
    "---"
   ]
  },
  {
   "cell_type": "markdown",
   "id": "detailed-metrics",
   "metadata": {},
   "source": [
    "## 4. Generate Classification Report and Confusion Matrix"
   ]
  },
  {
   "cell_type": "code",
   "execution_count": null,
   "id": "22d6b65e",
   "metadata": {},
   "outputs": [],
   "source": [
    "# Display detailed performance metrics\n",
    "display_classfication_report_and_confusion_matrix(model, test_data)"
   ]
  },
  {
   "cell_type": "markdown",
   "id": "divider-4",
   "metadata": {},
   "source": [
    "---"
   ]
  },
  {
   "cell_type": "markdown",
   "id": "visual-predictions",
   "metadata": {},
   "source": [
    "## 5. Visualize Sample Predictions"
   ]
  },
  {
   "cell_type": "code",
   "execution_count": null,
   "id": "a31e1933",
   "metadata": {},
   "outputs": [],
   "source": [
    "# Prepare test path\n",
    "test_path = dataset_path + '/test'\n",
    "\n",
    "# Display 6 random images with their true and predicted labels\n",
    "dispaly_samples_predictions(model, test_path)"
   ]
  },
  {
   "cell_type": "markdown",
   "id": "final-divider",
   "metadata": {},
   "source": [
    "---"
   ]
  }
 ],
 "metadata": {
  "kernelspec": {
   "display_name": "Python 3 (ipykernel)",
   "language": "python",
   "name": "python3"
  },
  "language_info": {
   "codemirror_mode": {
    "name": "ipython",
    "version": 3
   },
   "file_extension": ".py",
   "mimetype": "text/x-python",
   "name": "python",
   "nbconvert_exporter": "python",
   "pygments_lexer": "ipython3",
   "version": "3.9.18"
  }
 },
 "nbformat": 4,
 "nbformat_minor": 5
}
