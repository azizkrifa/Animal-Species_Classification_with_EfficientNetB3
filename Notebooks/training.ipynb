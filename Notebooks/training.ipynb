{
 "cells": [
  {
   "cell_type": "markdown",
   "id": "header-1",
   "metadata": {},
   "source": [
    "# Animal Classification Model Training\n",
    "---"
   ]
  },
  {
   "cell_type": "markdown",
   "id": "imports",
   "metadata": {},
   "source": [
    "## 1. Import Required Libraries"
   ]
  },
  {
   "cell_type": "code",
   "execution_count": null,
   "id": "41031b01",
   "metadata": {},
   "outputs": [],
   "source": [
    "from tensorflow.keras.applications import EfficientNetB3\n",
    "from tensorflow.keras.layers import Dense, GlobalAveragePooling2D, BatchNormalization\n",
    "from tensorflow.keras.optimizers import Adam\n",
    "from tensorflow.keras.models import Model, load_model\n",
    "from tensorflow.keras.callbacks import EarlyStopping, ModelCheckpoint, CSVLogger\n",
    "from utils import load_dataset\n",
    "import nbimporter\n",
    "from data_preprocessing import dataset_path"
   ]
  },
  {
   "cell_type": "markdown",
   "id": "divider-1",
   "metadata": {},
   "source": [
    "---"
   ]
  },
  {
   "cell_type": "markdown",
   "id": "data-loading",
   "metadata": {},
   "source": [
    "## 2. Load Training and Validation Data"
   ]
  },
  {
   "cell_type": "code",
   "execution_count": null,
   "id": "3febbc7f",
   "metadata": {},
   "outputs": [],
   "source": [
    "train_data, val_data = load_dataset(dataset_path)  # Load the training and validation datasets"
   ]
  },
  {
   "cell_type": "markdown",
   "id": "divider-2",
   "metadata": {},
   "source": [
    "---"
   ]
  },
  {
   "cell_type": "markdown",
   "id": "model-architecture",
   "metadata": {},
   "source": [
    "## 3. Build Model Architecture"
   ]
  },
  {
   "cell_type": "code",
   "execution_count": null,
   "id": "13d12607",
   "metadata": {},
   "outputs": [],
   "source": [
    "# Load EfficientNetB3 base (pre-trained on ImageNet)\n",
    "base_model = EfficientNetB3(\n",
    "    weights='imagenet',\n",
    "    include_top=False,\n",
    "    input_shape=(224, 224, 3)\n",
    ")\n",
    "\n",
    "# Unfreeze base model initially\n",
    "base_model.trainable = True\n",
    "\n",
    "x = base_model.output\n",
    "x = GlobalAveragePooling2D()(x)\n",
    "\n",
    "# First dense block\n",
    "x = Dense(512, activation='relu')(x)\n",
    "x = BatchNormalization()(x)\n",
    "\n",
    "# Second dense block\n",
    "x = Dense(256, activation='relu')(x)\n",
    "x = BatchNormalization()(x)\n",
    "\n",
    "# Output layer\n",
    "predictions = Dense(10, activation='softmax')(x)\n",
    "\n",
    "model = Model(inputs=base_model.input, outputs=predictions)"
   ]
  },
  {
   "cell_type": "markdown",
   "id": "divider-3",
   "metadata": {},
   "source": [
    "---"
   ]
  },
  {
   "cell_type": "markdown",
   "id": "model-compilation",
   "metadata": {},
   "source": [
    "## 4. Compile the Model"
   ]
  },
  {
   "cell_type": "code",
   "execution_count": null,
   "id": "267d939a",
   "metadata": {},
   "outputs": [],
   "source": [
    "# Compile\n",
    "model.compile(\n",
    "    optimizer=Adam(learning_rate=1e-5),\n",
    "    loss='categorical_crossentropy',\n",
    "    metrics=['accuracy']\n",
    ")\n",
    "\n",
    "model.summary()"
   ]
  },
  {
   "cell_type": "markdown",
   "id": "divider-4",
   "metadata": {},
   "source": [
    "---"
   ]
  },
  {
   "cell_type": "markdown",
   "id": "training-setup",
   "metadata": {},
   "source": [
    "## 5. Configure Training Callbacks"
   ]
  },
  {
   "cell_type": "code",
   "execution_count": null,
   "id": "9b9bc4b4",
   "metadata": {},
   "outputs": [],
   "source": [
    "# Early stopping to prevent overfitting\n",
    "early_stop = EarlyStopping(monitor='val_loss', patience=10, restore_best_weights=True) \n",
    "\n",
    "# Checkpoint to save the best model based on validation accuracy\n",
    "checkpoint = ModelCheckpoint(\"/Outputs/best_model.h5\", save_best_only=True, monitor='val_accuracy')\n",
    "\n",
    "# CSV Logger to log training history each epoch\n",
    "csv_logger = CSVLogger('/Outputs/training_log.csv', append=False)"
   ]
  },
  {
   "cell_type": "markdown",
   "id": "divider-5",
   "metadata": {},
   "source": [
    "---"
   ]
  },
  {
   "cell_type": "markdown",
   "id": "model-training",
   "metadata": {},
   "source": [
    "## 6. Train the Model"
   ]
  },
  {
   "cell_type": "code",
   "execution_count": null,
   "id": "9b9bc4b4",
   "metadata": {},
   "outputs": [],
   "source": [
    "# Train the model\n",
    "history = model.fit(\n",
    "    train_data,\n",
    "    validation_data=val_data,\n",
    "    epochs=50,\n",
    "    callbacks=[early_stop, checkpoint, csv_logger]\n",
    ")"
   ]
  },
  {
   "cell_type": "markdown",
   "id": "divider-6",
   "metadata": {},
   "source": [
    "---"
   ]
  },
  {
   "cell_type": "markdown",
   "id": "training-visualization",
   "metadata": {},
   "source": [
    "## 7. Visualize Training Results"
   ]
  },
  {
   "cell_type": "code",
   "execution_count": null,
   "id": "00929971",
   "metadata": {},
   "outputs": [],
   "source": [
    "from utils import display_Training_History\n",
    "\n",
    "# Display training history (accuracy and loss) for both training and validation sets\n",
    "display_Training_History()"
   ]
  },
  {
   "cell_type": "markdown",
   "id": "final-divider",
   "metadata": {},
   "source": [
    "---"
   ]
  }
 ],
 "metadata": {
  "kernelspec": {
   "display_name": "Python 3 (ipykernel)",
   "language": "python",
   "name": "python3"
  },
  "language_info": {
   "codemirror_mode": {
    "name": "ipython",
    "version": 3
   },
   "file_extension": ".py",
   "mimetype": "text/x-python",
   "name": "python",
   "nbconvert_exporter": "python",
   "pygments_lexer": "ipython3",
   "version": "3.9.18"
  }
 },
 "nbformat": 4,
 "nbformat_minor": 5
}
