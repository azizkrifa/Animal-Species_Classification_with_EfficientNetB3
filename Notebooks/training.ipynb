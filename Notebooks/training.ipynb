{
 "cells": [
  {
   "cell_type": "code",
   "execution_count": null,
   "id": "37c00a92",
   "metadata": {},
   "outputs": [],
   "source": [
    "from tensorflow.keras.applications import EfficientNetB3\n",
    "from tensorflow.keras.layers import Dense, GlobalAveragePooling2D , BatchNormalization\n",
    "from tensorflow.keras.optimizers import Adam\n",
    "from tensorflow.keras.models import Model ,load_model\n",
    "from tensorflow.keras.callbacks import EarlyStopping, ModelCheckpoint, CSVLogger\n",
    "from utils import load_dataset\n",
    "import nbimporter\n",
    "from data_preprocessing import dataset_path"
   ]
  },
  {
   "cell_type": "code",
   "execution_count": null,
   "id": "053ffdfa",
   "metadata": {},
   "outputs": [],
   "source": [
    "train_data, val_data = load_dataset(dataset_path)  # Load the training and validation datasets"
   ]
  },
  {
   "cell_type": "code",
   "execution_count": null,
   "id": "a6cf1c3c",
   "metadata": {},
   "outputs": [],
   "source": [
    "# Load EfficientNetB3 base (pre-trained on ImageNet)\n",
    "base_model = EfficientNetB3(\n",
    "    weights='imagenet',\n",
    "    include_top=False,\n",
    "    input_shape=(224, 224, 3)\n",
    ")\n",
    "\n",
    "# Unfreeze base model initially\n",
    "base_model.trainable = True\n",
    "\n",
    "x = base_model.output\n",
    "x = GlobalAveragePooling2D()(x)\n",
    "\n",
    "# First dense block\n",
    "x = Dense(512, activation='relu')(x)\n",
    "x = BatchNormalization()(x)\n",
    "\n",
    "# Second dense block\n",
    "x = Dense(256, activation='relu')(x)\n",
    "x = BatchNormalization()(x)\n",
    "\n",
    "# Output layer\n",
    "predictions = Dense(10, activation='softmax')(x)\n",
    "\n",
    "model = Model(inputs=base_model.input, outputs=predictions)"
   ]
  },
  {
   "cell_type": "code",
   "execution_count": null,
   "id": "eb83e74e",
   "metadata": {},
   "outputs": [],
   "source": [
    "# Compile\n",
    "model.compile(\n",
    "    optimizer=Adam(learning_rate=1e-5),\n",
    "    loss='categorical_crossentropy',\n",
    "    metrics=['accuracy']\n",
    ")\n",
    "\n",
    "model.summary()"
   ]
  },
  {
   "cell_type": "code",
   "execution_count": null,
   "id": "049d5685",
   "metadata": {},
   "outputs": [],
   "source": [
    "# Early stopping to prevent overfitting\n",
    "early_stop = EarlyStopping(monitor='val_loss', patience=10, restore_best_weights=True) \n",
    "\n",
    "# Checkpoint to save the best model based on validation accuracy\n",
    "checkpoint = ModelCheckpoint(\"/Outputs/best_model.h5\", save_best_only=True, monitor='val_accuracy')\n",
    "\n",
    "# CSV Logger to log training history each epoch\n",
    "csv_logger = CSVLogger('/Outputs/training_log.csv', append=False)\n",
    "\n",
    "# Train the model\n",
    "history = model.fit(\n",
    "    train_data,\n",
    "    validation_data=val_data,\n",
    "    epochs=50,\n",
    "    callbacks=[early_stop, checkpoint , csv_logger]\n",
    ")"
   ]
  },
  {
   "cell_type": "code",
   "execution_count": null,
   "id": "6faf0676",
   "metadata": {},
   "outputs": [],
   "source": [
    "from utils import display_Training_History\n",
    "\n",
    "# Display training history (accuracy and loss) for both training and validation sets\n",
    "display_Training_History()  "
   ]
  }
 ],
 "metadata": {
  "language_info": {
   "name": "python"
  }
 },
 "nbformat": 4,
 "nbformat_minor": 5
}
