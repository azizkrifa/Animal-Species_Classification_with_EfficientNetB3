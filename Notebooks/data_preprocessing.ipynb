{
 "cells": [
  {
   "cell_type": "markdown",
   "id": "header-1",
   "metadata": {},
   "source": [
    "# Animals10 Dataset Processing\n",
    "---"
   ]
  },
  {
   "cell_type": "markdown",
   "id": "dataset-download",
   "metadata": {},
   "source": [
    "## 1. Download Dataset from Kaggle"
   ]
  },
  {
   "cell_type": "code",
   "execution_count": null,
   "id": "c6b24983",
   "metadata": {},
   "outputs": [],
   "source": [
    "import kagglehub\n",
    "\n",
    "# Download latest version\n",
    "src_path = kagglehub.dataset_download(\"alessiocorrado99/animals10\")\n",
    "\n",
    "print(\"Path to dataset files:\", src_path)"
   ]
  },
  {
   "cell_type": "markdown",
   "id": "divider-1",
   "metadata": {},
   "source": [
    "---"
   ]
  },
  {
   "cell_type": "markdown",
   "id": "data-directory-setup",
   "metadata": {},
   "source": [
    "## 2. Configure Data Directory"
   ]
  },
  {
   "cell_type": "code",
   "execution_count": null,
   "id": "5da803f7",
   "metadata": {},
   "outputs": [],
   "source": [
    "DATA_DIR = \"\" # Change this to your local path or Google Drive mount path if running in Colab !!!\n",
    "              # if you keep DATA_DIR = \"\" , the data will be loaded in your current repo !!\n",
    "\n",
    "dataset_path = f\"{DATA_DIR}/animals10_dataset\""
   ]
  },
  {
   "cell_type": "markdown",
   "id": "divider-2",
   "metadata": {},
   "source": [
    "---"
   ]
  },
  {
   "cell_type": "markdown",
   "id": "data-splitting",
   "metadata": {},
   "source": [
    "## 3. Split Data into Train/Val/Test Sets"
   ]
  },
  {
   "cell_type": "code",
   "execution_count": null,
   "id": "ad58c571",
   "metadata": {},
   "outputs": [],
   "source": [
    "import splitfolders \n",
    "\n",
    "# Split dataset into train, validation, and test sets\n",
    "splitfolders.ratio(\n",
    "    src_path,\n",
    "    output=dataset_path,\n",
    "    seed=42, \n",
    "    ratio=(0.7, 0.2, 0.1), # train(70%), validation(20%), test(10%)\n",
    "    group_prefix=None)"
   ]
  },
  {
   "cell_type": "markdown",
   "id": "divider-3",
   "metadata": {},
   "source": [
    "---"
   ]
  },
  {
   "cell_type": "markdown",
   "id": "data-preview",
   "metadata": {},
   "source": [
    "## 4. Preview Sample Images"
   ]
  },
  {
   "cell_type": "code",
   "execution_count": null,
   "id": "6fcaf3b5",
   "metadata": {},
   "outputs": [],
   "source": [
    "from utils import display_sample_images \n",
    "\n",
    "display_sample_images(dataset_path) # Display sample images from the train set"
   ]
  },
  {
   "cell_type": "markdown",
   "id": "divider-4",
   "metadata": {},
   "source": [
    "---"
   ]
  },
  {
   "cell_type": "markdown",
   "id": "class-distribution",
   "metadata": {},
   "source": [
    "## 5. Analyze Class Distribution"
   ]
  },
  {
   "cell_type": "code",
   "execution_count": null,
   "id": "70ac9e6d",
   "metadata": {},
   "outputs": [],
   "source": [
    "import os\n",
    "from utils import display_distribution\n",
    "\n",
    "train_dir = os.path.join(dataset_path, \"train\")\n",
    "\n",
    "display_distribution(train_dir) # Display the distribution of images across classes of the train set"
   ]
  },
  {
   "cell_type": "markdown",
   "id": "divider-5",
   "metadata": {},
   "source": [
    "---"
   ]
  },
  {
   "cell_type": "markdown",
   "id": "data-augmentation",
   "metadata": {},
   "source": [
    "## 6. Balance Classes with Data Augmentation"
   ]
  },
  {
   "cell_type": "code",
   "execution_count": null,
   "id": "cd23fa69",
   "metadata": {},
   "outputs": [],
   "source": [
    "import os\n",
    "import numpy as np\n",
    "from tensorflow.keras.preprocessing.image import ImageDataGenerator, load_img, img_to_array\n",
    "from collections import Counter\n",
    "import shutil\n",
    "\n",
    "# Paths\n",
    "train_dir = os.path.join(dataset_path, \"train\")\n",
    "train_augmented_dir = os.path.join(dataset_path, \"train_augmented\")\n",
    "\n",
    "# Create augmentation generator\n",
    "augmenter = ImageDataGenerator(\n",
    "    rotation_range=20,\n",
    "    zoom_range=0.15,\n",
    "    width_shift_range=0.2,\n",
    "    height_shift_range=0.2,\n",
    "    shear_range=0.15,\n",
    "    horizontal_flip=True,\n",
    "    fill_mode=\"nearest\"\n",
    ")\n",
    "\n",
    "# Step 1: Count images per class\n",
    "class_counts = {}\n",
    "for cls in os.listdir(train_dir):\n",
    "    cls_path = os.path.join(train_dir, cls)\n",
    "    if os.path.isdir(cls_path):\n",
    "        class_counts[cls] = len(os.listdir(cls_path))\n",
    "\n",
    "max_count = max(class_counts.values())\n",
    "print(f\"Target count per class: {max_count}\")\n",
    "\n",
    "# Step 2: Balance classes\n",
    "for cls, count in class_counts.items():\n",
    "    src = os.path.join(train_dir, cls)\n",
    "    dst = os.path.join(train_augmented_dir, cls)\n",
    "    os.makedirs(dst, exist_ok=True)\n",
    "\n",
    "    # Copy originals\n",
    "    for img_name in os.listdir(src):\n",
    "        shutil.copy(os.path.join(src, img_name), os.path.join(dst, img_name))\n",
    "\n",
    "    # How many augmented images needed\n",
    "    needed = max_count - count\n",
    "    if needed <= 0:\n",
    "        continue  # Class already balanced\n",
    "\n",
    "    # Load all images in class\n",
    "    img_files = os.listdir(src)\n",
    "\n",
    "    # Generate augmented images\n",
    "    gen_count = 0\n",
    "    while gen_count < needed:\n",
    "        img_name = np.random.choice(img_files)\n",
    "        img = load_img(os.path.join(src, img_name))\n",
    "        x = img_to_array(img)\n",
    "        x = x.reshape((1,) + x.shape)\n",
    "\n",
    "        for batch in augmenter.flow(\n",
    "            x, batch_size=1,\n",
    "            save_to_dir=dst,\n",
    "            save_prefix='aug',\n",
    "            save_format='jpeg'\n",
    "        ):\n",
    "            gen_count += 1\n",
    "            if gen_count >= needed:\n",
    "                break\n",
    "\n",
    "    print(f\"{cls}: augmented {gen_count} images to reach {max_count}\")"
   ]
  },
  {
   "cell_type": "markdown",
   "id": "divider-6",
   "metadata": {},
   "source": [
    "---"
   ]
  },
  {
   "cell_type": "markdown",
   "id": "verify-augmentation",
   "metadata": {},
   "source": [
    "## 7. Verify Augmented Dataset"
   ]
  },
  {
   "cell_type": "code",
   "execution_count": null,
   "id": "e28e3f8b",
   "metadata": {},
   "outputs": [],
   "source": [
    "import os\n",
    "from utils import display_distribution\n",
    "\n",
    "train_augmented_dir = os.path.join(dataset_path, \"train_augmented\")\n",
    "\n",
    "display_distribution(train_augmented_dir) # Display the distribution of images across classes of the train_augmented set"
   ]
  },
  {
   "cell_type": "markdown",
   "id": "final-divider",
   "metadata": {},
   "source": [
    "---"
   ]
  }
 ],
 "metadata": {
  "kernelspec": {
   "display_name": "Python 3 (ipykernel)",
   "language": "python",
   "name": "python3"
  },
  "language_info": {
   "codemirror_mode": {
    "name": "ipython",
    "version": 3
   },
   "file_extension": ".py",
   "mimetype": "text/x-python",
   "name": "python",
   "nbconvert_exporter": "python",
   "pygments_lexer": "ipython3",
   "version": "3.9.18"
  }
 },
 "nbformat": 4,
 "nbformat_minor": 5
}
